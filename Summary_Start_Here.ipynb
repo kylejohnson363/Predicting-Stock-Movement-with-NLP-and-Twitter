{
 "cells": [
  {
   "cell_type": "markdown",
   "metadata": {},
   "source": [
    "# Using Natural Language Processing and Twitter to Predict Stocks\n",
    "Kyle Johnson\n",
    "\n",
    "Flatiron School Final Project\n",
    "\n",
    "#### Objective: \n",
    "The precise objective of this project is to predict a stock's price movement from the open to the close of the current trading day based only on tweets from the previous close of trading until the opening bell of the current day.  I chose this set up in order to have a clearly defined predictor (overnight Twitter sentiment) and target (intra-day stock price movement).  I do not include any tweets from the previous day's market hours because Efficient Market Hypothesis dictates that those sentiments would be priced into the previous day's stock price.  I also do not include any overnight stock price movement because that would be using the future to predict the future.  For example, if a stock rises during after-hours trading and then the next morning there is positive Twitter sentiment about that stock, then the target would be determining the predictor which leads to a completely useless result.\n",
    "\n",
    "This project breaks down into two parts. Part 1 uses a database of tweets from 2016 and part 2 uses current tweets gathered from Twitter's API.  Please follow along with these notebooks that detail this process:\n",
    "## Part 1 - Archived Tweets\n",
    "#### Notebook 1 - Data Gathering of Archived Tweets\n",
    "In this notebook I source tweets about the stocks in the NASDAQ 100 Index for a period of 90 days in mid 2016.\n",
    "#### Notebook 2 - Archived Tweet Analysis\n",
    "In this notebook I use the data frames created in the previous notebook to determine the usefulness of using Natural Language Processing in the aim of predicting stock price movements. \n",
    "#### Notebook 3 - Isolating the Best Tweeters\n",
    "In this notebook I give each tweeter (username) a score based on their sentiment's ability to accurately forcast stock price movement.  I then isolate those tweeters with the highest scores and make new predictions\n",
    "\n",
    "## Part 2 - Live Tweets\n",
    "#### Notebook 4 - Gathering Live Tweets\n",
    "In this notebook I use the Twitter API to gather tweets from the last two weeks until the current moment.  Unfortunately the free version of Twitter's API only allows the gathering of 1 week's worth of data, however the code would be the same for a paid version that could gather more data. \n",
    "#### Notebook 5 - Live Tweet Analysis\n",
    "In this notebook I perform the same analysis on live tweets as was performed on the archived tweets in Notebook 2. \n",
    "#### Notebook 6 - Isolating the Best Live Tweeters\n",
    "In this notebook I perform the same analysis on live tweets as was performed on the archived tweets in Notebook 3.  \n",
    "## Conclusions:\n",
    "- Both TextBlob and Vader sentiment analysers show the ability to give useful insight into stock movement.\n",
    "- Using sentiment analysis on trades with a high tweet volume relative to each stock's average is a consistently effective strategy.\n",
    "- Forming sentiment scores using only tweeters with high recent accuracy is an effective strategy.\n",
    "- The data used for this project has two main limitations that would need to be addressed before deploying these strategies into the live capital markets.\n",
    "    - Majority of data is significantly out of date.\n",
    "    - Recent data is of very limited scope.\n",
    "\n",
    "## Further Exploration:\n",
    "- Acquire a paid Twitter Developer subscription in order to gather much more recent data.\n",
    "- Explore other sentiment engines such as Google's to find the best performing one.\n",
    "- Create a \"voting\" system that consideres sentiment scores of several different algorithms into a single score."
   ]
  },
  {
   "cell_type": "code",
   "execution_count": null,
   "metadata": {},
   "outputs": [],
   "source": []
  }
 ],
 "metadata": {
  "kernelspec": {
   "display_name": "Python 3",
   "language": "python",
   "name": "python3"
  },
  "language_info": {
   "codemirror_mode": {
    "name": "ipython",
    "version": 3
   },
   "file_extension": ".py",
   "mimetype": "text/x-python",
   "name": "python",
   "nbconvert_exporter": "python",
   "pygments_lexer": "ipython3",
   "version": "3.7.3"
  }
 },
 "nbformat": 4,
 "nbformat_minor": 2
}
